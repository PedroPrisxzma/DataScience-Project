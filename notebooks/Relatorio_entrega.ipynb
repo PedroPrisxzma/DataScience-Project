{
 "cells": [
  {
   "cell_type": "markdown",
   "metadata": {},
   "source": [
    "# ICD - Projeto Final: Gun Violence\n",
    "\n",
    "## By:\n",
    "     Marcelo Luiz Harry Diniz Lemos\n",
    "\n",
    "     Pedro Nascimento Costa\n",
    "     \n",
    "## External info:\n",
    "    \n",
    "    Link Video: https://youtu.be/arOVNpElnDQ\n",
    "    \n",
    "    Github: https://github.com/PedroPrisxzma/DataScience-Project"
   ]
  },
  {
   "cell_type": "markdown",
   "metadata": {},
   "source": [
    "Esse relatório foi criado utilizando o Notebook Relatorio_entrega, presente na pasta notebooks.\n",
    "Além disso, todos os notebooks utilizados para gerar os resultados aqui presentes podem ser encontrados na mesma pasta.\n",
    "\n",
    "## Introdução\n",
    "\n",
    "Neste trabalho vamos analisar características de incidentes com armas.\n",
    "\n",
    "## Motivação\n",
    "\n",
    "A motivação pelo trabalho veio de uma questão polêmica atual no Brasil sobre a legalização de armas. \n",
    "Para entender melhor o que o porte pode trazer, resolveu-se analisar dados de um país que tenha porte de arma liberado, os Estados Unidos da América, sendo assim será utilizada uma base que registra incidentes com arma de fogo através dos anos, começando em 2013 e seguindo até 2018."
   ]
  },
  {
   "cell_type": "markdown",
   "metadata": {},
   "source": [
    "## Perguntas\n",
    "\n",
    "1 - Qual a influência das leis sobre o número de incidentes com armas nos EUA?\n",
    "    - É perceptível/indicativo pelos estados que possuém mais leis ativas?\n",
    "2 - Qual a influência das leis sobre o número de mortos em incidentes com armas nos EUA?\n",
    "\n",
    "3 - Qual a influência das leis sobre o número de feridos em incidentes com armas nos EUA?\n",
    "\n",
    "4 - Qual a influência das armas registradas sobre os incidentes/mortos/feridos?"
   ]
  },
  {
   "cell_type": "markdown",
   "metadata": {},
   "source": [
    "## Dados Utilizados\n",
    "\n",
    "Para a realização deste projeto, foi necessário utilizar alguns conjuntos de dados de domínio público. Nesta seção iremos entrar em mais detalhes sobre as bases utilizadas.\n",
    "\n",
    "### Gun Violence\n",
    "**Descrição:** Conjunto de dados contendo informações sobre todos os incidentes com armas registrados nos EUA a partir do final de 2013 até o início de 2018. Inclui informações sobre data, local, número de armas envolvidas, quantidade de pessoas mortas e feridas, idade e gênero dos participantes, e mais, sobre cada um dests incidentes.\n",
    "\n",
    "**Fonte:** [Gun Violence Data - James Ko](https://www.kaggle.com/jameslko/gun-violence-data)\n",
    "\n",
    "### State Population Totals and Components of Change: 2010-2018\n",
    "\n",
    "**Descrição:** Estimativas de população e outros índices para cada estado e região dos EUA no período de 2010 até 2018.\n",
    "\n",
    "**Fonte:** [United States Census Bureau](https://www.census.gov/data/tables/time-series/demo/popest/2010s-state-total.html)\n",
    "\n",
    "### Gun Laws\n",
    "**Descrição:** Conjunto de dados indicando para cada estado dos EUA se ele possui ou não um determinado tipo de restrição quanto ao porte de armas.\n",
    "\n",
    "**Fonte:** [How strictly are guns regulated where you live?](https://www.washingtonpost.com/graphics/2017/national/assault-weapons-laws/?noredirect=on&utm_term=.cd6a901e4a44)\n",
    "\n",
    "### Guns Registered\n",
    "**Descrição:** Estatísticas sobre o número de armas registradas por estado dos EUA, em valores absolutos e *per capita*.\n",
    "\n",
    "**Fonte:** [What Is Gun Ownership Like State by State](https://www.thoughtco.com/gun-owners-percentage-of-state-populations-3325153)"
   ]
  },
  {
   "cell_type": "markdown",
   "metadata": {},
   "source": [
    "## Limpeza dos Dados\n",
    "\n",
    "As bases de dados selecionadas possuem alguns dados nos quais não estamos interessados e que podemos remover para melhorar o desempenho e facilitar o trabalho.\n",
    "Além disso algumas estão faltando informações ou possuem uma formatação não muito adequada"
   ]
  },
  {
   "cell_type": "markdown",
   "metadata": {},
   "source": [
    "## Análise Exploratória"
   ]
  },
  {
   "cell_type": "markdown",
   "metadata": {},
   "source": [
    "### Qual a tendência do número de incidentes?\n",
    "\n",
    "![incidentes_total_ano.png](../resultados/incidentes_total_ano.png)\n",
    "\n",
    "__Há um crescimento significativo com o passar do tempo.__"
   ]
  },
  {
   "cell_type": "markdown",
   "metadata": {},
   "source": [
    "### Em um dado ano, como estão distribuídos os incidentes?\n",
    "\n",
    "![inicidentes_percapita_mes.png](../resultados/inicidentes_percapita_mes.png)\n",
    "\n",
    "__Dezembro e Outubro são os meses com maior número médio de incidentes, ultrapassando 2000 incidentes por ano em média.\n",
    "Fevereiro é o mês com menor número de incidentes, tendo em média pouco mais de 1250 incidentes a cada ano.\n",
    "É possível perceber uma tendência de mais incidentes no segundo semestre do ano.__"
   ]
  },
  {
   "cell_type": "markdown",
   "metadata": {},
   "source": [
    "### E ao longo dos anos, como é essa distribuição mensal?\n",
    "\n",
    "![inicidentes_percapita_mes_ano.png](../resultados/inicidentes_percapita_mes_ano.png)\n",
    "\n",
    "__Não existe um padrão claro ao longo do tempo, mas é interessante como existe sempre um certo foco nos meses de feriado/férias, Dezembro/Janeiro e Julho/Agosto.__"
   ]
  },
  {
   "cell_type": "markdown",
   "metadata": {},
   "source": [
    "### Time series ao longo de todos os meses do ano:"
   ]
  },
  {
   "cell_type": "markdown",
   "metadata": {},
   "source": [
    "![time_series_all.png](../resultados/time_series_all.png)"
   ]
  },
  {
   "cell_type": "markdown",
   "metadata": {},
   "source": [
    "### Como é a distribuição do número de incidentes pelos estados dado todos os anos?\n",
    "\n",
    "![histogram.png](../resultados/histogram.png)\n",
    "\n",
    "__Podemos observar que cerca de 50% dos estados tiveram até 1000 incidentes.__"
   ]
  },
  {
   "cell_type": "markdown",
   "metadata": {},
   "source": [
    "### Como é a distribuição dos incidentes pelos estados?\n",
    "\n",
    "![incidentes_estado.png](../resultados/incidentes_estado.png)\n",
    "\n",
    "__Agora temos uma visão específica dos estados, observando qual estado era nosso outlier no histograma.__"
   ]
  },
  {
   "cell_type": "markdown",
   "metadata": {},
   "source": [
    "### Como é essa distribuição pelos estados ao longo dos anos de 2014 a 2017?\n",
    "\n",
    "![incidentes_estado_ano.png](../resultados/incidentes_estado_ano.png)\n",
    "\n",
    "__Podemos observar que foi em 2015 que o outlier pulou para frente dos demais estados, apesar de já ser o com maior número de incidentes no ano anterior.__"
   ]
  },
  {
   "cell_type": "markdown",
   "metadata": {},
   "source": [
    "### Incidentes per capita\n",
    "\n",
    "__Um fator importante a se notar é que a distriuição populacional não é igual entre os estados. Dado esse conhecimento, vamos observar essa distribuição de incidentes levando em consideração Incidentes per capita.__\n",
    "\n",
    "![incidentes_estado_percapita.png](../resultados/incidentes_estado_percapita.png)\n",
    "\n",
    "__Apesar do número maior de incidentes, podemos ver que levando em consideração a população do estado, Illinois  não é o estado com mais incidentes per capita, sendo agora o estado do Alaska.__"
   ]
  },
  {
   "cell_type": "markdown",
   "metadata": {},
   "source": [
    "### Incidentes per capita através dos anos\n",
    "\n",
    "![incidentes_estado_percapita_ano2.png](../resultados/incidentes_estado_percapita_ano2.png)\n",
    "\n",
    "__Podemos ver que foi em 2015 e 2016 o salto do estado de Alaska em incidentes per capita.__"
   ]
  },
  {
   "cell_type": "markdown",
   "metadata": {},
   "source": [
    "### Leis e Incidentes per capita\n",
    "\n",
    "![leis_incidentes_per_capita.png](../resultados/leis_incidentes_per_capita.png)\n",
    "\n"
   ]
  },
  {
   "cell_type": "markdown",
   "metadata": {},
   "source": [
    "### Leis e mortos/feridos per capita\n",
    "\n",
    "![leis_mortos_feridos.png](../resultados/leis_mortos_feridos.png)\n",
    "\n"
   ]
  },
  {
   "cell_type": "markdown",
   "metadata": {},
   "source": [
    "### Leis e mortos per capita\n",
    "\n",
    "![leis_mortos.png](../resultados/leis_mortos.png)\n",
    "\n"
   ]
  },
  {
   "cell_type": "markdown",
   "metadata": {},
   "source": [
    "### Armas e incidentes\n",
    "\n",
    "![armas_incidentes.png](../resultados/armas_incidentes.png)"
   ]
  },
  {
   "cell_type": "markdown",
   "metadata": {},
   "source": [
    "### Armas e incidentes per capita\n",
    "\n",
    "![armas_incidentes_per_capita.png](../resultados/armas_incidentes_per_capita.png)"
   ]
  },
  {
   "cell_type": "markdown",
   "metadata": {},
   "source": [
    "### Qual o perfil de idade dos envolvidos nos incidentes?\n",
    "\n",
    "![perfil_idade.png](../resultados/perfil_idade.png)\n",
    "\n",
    "__Existe uma forte concentração na faixa dos 15 a 30 anos, grande parte dos envolvidos é jovem.__"
   ]
  },
  {
   "cell_type": "markdown",
   "metadata": {},
   "source": [
    "## Testes de Hipótese e Intervalo de Confiança"
   ]
  },
  {
   "cell_type": "markdown",
   "metadata": {},
   "source": [
    "__Considerando o arquivo Gun Laws, que apresente um conjunto de 7 tipos de leis que regularizam porte de armas nos EUA, foi feito uma análise de Teste de Hipótese para analisar a influência das leis sobre os incidentes observados.__\n",
    "\n",
    "### Teste 1:\n",
    "\n",
    "#### Hipotese Nula: Leis não afetam o número de incidentes ou mortos e/ou feridos.\n",
    "\n",
    "#### Hipotese Alternativa: Leis afetam o número de incidentes ou mortos e/ou feridos."
   ]
  },
  {
   "cell_type": "markdown",
   "metadata": {},
   "source": [
    "#### Total de leis\n",
    "\n",
    "![HT_all_leis.png](../resultados/HT_all_leis.png)\n",
    "\n",
    "__Não foi observada um influência direta quando um Estado possui mais leis sobre vigor.__\n",
    "\n",
    "__Tendo isso como resultado, será que alguma das leis separadas tem alguma influência?__"
   ]
  },
  {
   "cell_type": "markdown",
   "metadata": {},
   "source": [
    "#### Red Flag Laws\n",
    "\n",
    "![HT_red_flag.png](../resultados/HT_red_flag.png)\n",
    "\n",
    "__Não foi observada um influência direta dessa lei.__"
   ]
  },
  {
   "cell_type": "markdown",
   "metadata": {},
   "source": [
    "#### Relinquishment Laws\t\n",
    "\n",
    "![HT_relinquishment_laws.png](../resultados/HT_relinquishment_laws.png)\n",
    "\n",
    "__Não foi observada um influência direta dessa lei.__"
   ]
  },
  {
   "cell_type": "markdown",
   "metadata": {},
   "source": [
    "#### Assault Weapon Ban\t\n",
    "\n",
    "![HT_assault_wep.png](../resultados/HT_assault_wep.png)\n",
    "\n",
    "__Não foi observada um influência direta dessa lei.__"
   ]
  },
  {
   "cell_type": "markdown",
   "metadata": {},
   "source": [
    "#### High-Capacity Magazine ban\n",
    "\n",
    "![HT_high_capacity.png](../resultados/HT_high_capacity.png)\n",
    "\n",
    "__Não foi observada um influência direta dessa lei.__"
   ]
  },
  {
   "cell_type": "markdown",
   "metadata": {},
   "source": [
    "#### Prohibition for high-risk individuals\n",
    "\n",
    "![HT_high_risk_indv.png](../resultados/HT_high_risk_indv.png)\n",
    "\n",
    "__Não foi observada um influência direta dessa lei.__"
   ]
  },
  {
   "cell_type": "markdown",
   "metadata": {},
   "source": [
    "#### Prohibitions for individual with domestic violence covictions\t\n",
    "\n",
    "![HT_domestic_violence.png](../resultados/HT_domestic_violence.png)\n",
    "\n",
    "__Não foi observada um influência direta dessa lei.__"
   ]
  },
  {
   "cell_type": "markdown",
   "metadata": {},
   "source": [
    "#### Mandatory universal background checks\n",
    "\n",
    "![HT_background_check.png](../resultados/HT_background_check.png)\n",
    "\n",
    "__Não foi observada um influência direta dessa lei.__"
   ]
  },
  {
   "cell_type": "markdown",
   "metadata": {},
   "source": [
    "__Dentre todas as leis observadas, nenhuma e nem o total delas parece influenciar o número de incidentes, feridos ou mortos. Esse teste é explorado mais na Classificação.__"
   ]
  },
  {
   "cell_type": "markdown",
   "metadata": {},
   "source": [
    "### IC 1"
   ]
  },
  {
   "cell_type": "markdown",
   "metadata": {},
   "source": [
    "__Utilizando a lei de Prohibitions for individual with domestic violence covictions, vamos achar o intervalo de confiança do grupo de estados que possui essa lei, dada a escolha aleatória de um estado.__"
   ]
  },
  {
   "cell_type": "markdown",
   "metadata": {},
   "source": [
    "#### Comparação da distribuição entre os estados que possuem a lei\n",
    "\n",
    "![IC_plot1.png](../resultados/IC_plot1.png)\n"
   ]
  },
  {
   "cell_type": "markdown",
   "metadata": {},
   "source": [
    "Casos:\n",
    "   - Possui a lei, resultado do IC: (23.26413702418077, 32.744703739225606)\n",
    "   - Não Possui, reultado do IC: (25.229883688318736, 37.39204687946164)"
   ]
  },
  {
   "cell_type": "markdown",
   "metadata": {},
   "source": [
    "__Utilizando um Boostrap da diferenca das medias com amostras, obtém se o resultado abaixo:__\n",
    "\n",
    "![IC_plot2.png](../resultados/IC_plot2.png)\n"
   ]
  },
  {
   "cell_type": "markdown",
   "metadata": {},
   "source": [
    "## Regressão"
   ]
  },
  {
   "cell_type": "markdown",
   "metadata": {},
   "source": [
    "__Para Regressão foi utilizada a base de armas registradas (Registered Guns), na qual foi utilizada uma regressão linear para mostrar a relação entre o número de armas registras e o número de incidentes.__"
   ]
  },
  {
   "cell_type": "markdown",
   "metadata": {},
   "source": [
    "Os resultados a seguir são os da regressão abaixo:\n",
    "    \n",
    "    Coefficient: 7.99\n",
    "    Intercept: 799.48\n",
    "    Mean squared error: 795019.13\n",
    "    R2: 0.58\n",
    "\n",
    "Regressão:\n",
    "\n",
    "![regression.png](../resultados/regression.png)"
   ]
  },
  {
   "cell_type": "markdown",
   "metadata": {},
   "source": [
    "## Classificação\n",
    "\n",
    "__Para Classificação, primeiramente há uma ligação com o Teste 1 de hipótese, vamos observar os efeitos das leis ao tentar se classificar com elas os estados. Através de dois métodos, K Nearest Neighbours e Decision Tree, tentaremos classificar os estados em baixo(0 a 6), médio(6 a 12) ou alto(12+) número de incidentes per capita, classficação feita a partir das leis abordadas no Teste 1 dos testes de hipotese.__ "
   ]
  },
  {
   "cell_type": "markdown",
   "metadata": {},
   "source": [
    "Distribuição dos incidentes per capita:\n",
    "\n",
    "![distribuicao_incidentes_percapita.png](../resultados/distribuicao_incidentes_percapita.png)"
   ]
  },
  {
   "cell_type": "markdown",
   "metadata": {},
   "source": [
    "### Observação:\n",
    "    Tanto no KNN quanto na Decision Tree, foram utilizados um split de 80-20 de treino/teste."
   ]
  },
  {
   "cell_type": "markdown",
   "metadata": {},
   "source": [
    "__O KNN foi rodado 1000 vezes, obtendo-se uma média de accurácia.__\n",
    "\n",
    "__O Decision Tree foi rodado 1000 vezes, obtendo-se uma média de accurácia.___\n",
    "\n",
    "### Resultados dos testes:"
   ]
  },
  {
   "cell_type": "markdown",
   "metadata": {},
   "source": [
    "Média Acurácia KNN: 39%\n",
    "\n",
    "Média Acurácia Decision Tree: 37%\n",
    "\n",
    "![classificacao.png](../resultados/classificacao.png)"
   ]
  },
  {
   "cell_type": "markdown",
   "metadata": {},
   "source": [
    "### Conclusão \n",
    "\n",
    "__A abordagem do teste 1 de hipotese mostrava que não existe uma relação muito clara entre as leis e o número de incidentes. Pela classificação podemos observar um pouco mais da relação, dando uma ideia de que as leis não são suficientes para indicar bem quais estados possuém nível alto, médio ou baixo de incidentes.__"
   ]
  }
 ],
 "metadata": {
  "kernelspec": {
   "display_name": "Python 3",
   "language": "python",
   "name": "python3"
  },
  "language_info": {
   "codemirror_mode": {
    "name": "ipython",
    "version": 3
   },
   "file_extension": ".py",
   "mimetype": "text/x-python",
   "name": "python",
   "nbconvert_exporter": "python",
   "pygments_lexer": "ipython3",
   "version": "3.6.7"
  },
  "toc": {
   "base_numbering": 1,
   "nav_menu": {},
   "number_sections": true,
   "sideBar": true,
   "skip_h1_title": true,
   "title_cell": "Table of Contents",
   "title_sidebar": "Contents",
   "toc_cell": false,
   "toc_position": {},
   "toc_section_display": true,
   "toc_window_display": false
  }
 },
 "nbformat": 4,
 "nbformat_minor": 4
}
