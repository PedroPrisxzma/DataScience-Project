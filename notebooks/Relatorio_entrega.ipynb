{
 "cells": [
  {
   "cell_type": "markdown",
   "metadata": {},
   "source": [
    "### To hide cells, use the code below, add the \"hide_toggle()\" to a cell to enable it.\n",
    "\n",
    "### Another method is using tags and running: \n",
    "\n",
    "jupyter nbconvert Projeto_Final.ipynb --TagRemovePreprocessor.remove_input_tags='{\"remove\"}'\n",
    "\n",
    "on the terminal.\n",
    "\n",
    "https://stackoverflow.com/questions/31517194/how-to-hide-one-specific-cell-input-or-output-in-ipython-notebook"
   ]
  },
  {
   "cell_type": "code",
   "execution_count": 1,
   "metadata": {},
   "outputs": [
    {
     "data": {
      "text/html": [
       "\n",
       "        <script>\n",
       "            function code_toggle_11735274834768776161() {\n",
       "                $('div.cell.code_cell.rendered.selected').find('div.input').toggle();\n",
       "            }\n",
       "\n",
       "            \n",
       "        </script>\n",
       "\n",
       "        <a href=\"javascript:code_toggle_11735274834768776161()\">Toggle show/hide</a>\n",
       "    "
      ],
      "text/plain": [
       "<IPython.core.display.HTML object>"
      ]
     },
     "execution_count": 1,
     "metadata": {},
     "output_type": "execute_result"
    }
   ],
   "source": [
    "from IPython.display import HTML\n",
    "import random\n",
    "\n",
    "def hide_toggle(for_next=False):\n",
    "    this_cell = \"\"\"$('div.cell.code_cell.rendered.selected')\"\"\"\n",
    "    next_cell = this_cell + '.next()'\n",
    "\n",
    "    toggle_text = 'Toggle show/hide'  # text shown on toggle link\n",
    "    target_cell = this_cell  # target cell to control with toggle\n",
    "    js_hide_current = ''  # bit of JS to permanently hide code in current cell (only when toggling next cell)\n",
    "\n",
    "    if for_next:\n",
    "        target_cell = next_cell\n",
    "        toggle_text += ' next cell'\n",
    "        js_hide_current = this_cell + '.find(\"div.input\").hide();'\n",
    "\n",
    "    js_f_name = 'code_toggle_{}'.format(str(random.randint(1,2**64)))\n",
    "\n",
    "    html = \"\"\"\n",
    "        <script>\n",
    "            function {f_name}() {{\n",
    "                {cell_selector}.find('div.input').toggle();\n",
    "            }}\n",
    "\n",
    "            {js_hide_current}\n",
    "        </script>\n",
    "\n",
    "        <a href=\"javascript:{f_name}()\">{toggle_text}</a>\n",
    "    \"\"\".format(\n",
    "        f_name=js_f_name,\n",
    "        cell_selector=target_cell,\n",
    "        js_hide_current=js_hide_current, \n",
    "        toggle_text=toggle_text\n",
    "    )\n",
    "\n",
    "    return HTML(html)\n",
    "hide_toggle()"
   ]
  },
  {
   "cell_type": "markdown",
   "metadata": {},
   "source": [
    "# ICD - Projeto Final: Gun Violence"
   ]
  },
  {
   "cell_type": "markdown",
   "metadata": {},
   "source": [
    "## Introdução\n",
    "\n",
    "Neste trabalho vamos analisar características de incidentes com armas.\n",
    "\n",
    "## Motivação\n",
    "\n",
    "A motivação pelo trabalho veio de uma questão polêmica atual no Brasil sobre a legalização de armas. \n",
    "Para entender melhor o que o porte pode trazer, resolveu-se analisar dados de um país que tenha porte de arma liberado, os Estados Unidos da América, sendo assim será utilizada uma base que registra incidentes com arma de fogo através dos anos, começando em 2013 e seguindo até 2018."
   ]
  },
  {
   "cell_type": "markdown",
   "metadata": {},
   "source": [
    "## Perguntas\n",
    "\n",
    "1 - Qual a influência das leis sobre o número de incidentes com armas nos EUA?\n",
    "    - É perceptível/indicativo pelos estados que possuém mais leis ativas?\n",
    "2 - Qual a influência das leis sobre o número de mortos em incidentes com armas nos EUA?\n",
    "\n",
    "3 - Qual a influência das leis sobre o número de feridos em incidentes com armas nos EUA?"
   ]
  },
  {
   "cell_type": "markdown",
   "metadata": {},
   "source": [
    "## Dados Utilizados\n",
    "\n",
    "Para a realização deste projeto, foi necessário utilizar alguns conjuntos de dados de domínio público. Nesta seção iremos entrar em mais detalhes sobre as bases utilizadas.\n",
    "\n",
    "### Gun Violence\n",
    "Fonte: [Gun Violence Data - James Ko](https://www.kaggle.com/jameslko/gun-violence-data)\n",
    "\n",
    "### State Population Totals and Components of Change: 2010-2018\n",
    "Fonte: [United States Census Bureau](https://www.census.gov/data/tables/time-series/demo/popest/2010s-state-total.html)\n",
    "\n",
    "### Gun Laws\n",
    "Foi montada um csv a partir dos dados.\n",
    "Fonte: [United States Gun laws](https://www.washingtonpost.com/graphics/2017/national/assault-weapons-laws/?noredirect=on&utm_term=.cd3a0a40e5b2)"
   ]
  },
  {
   "cell_type": "markdown",
   "metadata": {},
   "source": [
    "## Limpeza dos Dados\n",
    "\n",
    "As bases de dados selecionadas possuem alguns dados nos quais não estamos interessados e que podemos remover para melhorar o desempenho e facilitar o trabalho.\n",
    "Além disso algumas estão faltando informações ou possuem uma formatação não muito adequada"
   ]
  },
  {
   "cell_type": "markdown",
   "metadata": {},
   "source": [
    "## Análise Exploratória"
   ]
  },
  {
   "cell_type": "markdown",
   "metadata": {},
   "source": [
    "### Como é a distribuição do número de incidentes pelos estados dado todos os anos?\n",
    "![histogram.png](../resultados/histogram.png)\n",
    "__Podemos observar que cerca de 50% dos estados tiveram até 1000 incidentes.__"
   ]
  },
  {
   "cell_type": "markdown",
   "metadata": {},
   "source": [
    "### Como é a distribuição dos incidentes pelos estados?\n",
    "![incidentes_estado.png](../resultados/incidentes_estado.png)\n",
    "__Agora temos uma visão específica dos estados, observando qual estado era nosso outlier no histograma.__"
   ]
  },
  {
   "cell_type": "markdown",
   "metadata": {},
   "source": [
    "### Como é essa distribuição pelos estados ao longo dos anos de 2014 a 2017?\n",
    "![incidentes_estado_ano.png](../resultados/incidentes_estado_ano.png)\n",
    "__Podemos observar que foi em 2015 que o outlier pulou para frente dos demais estados, apesar de já ser o com maior número de incidentes no ano anterior.__"
   ]
  },
  {
   "cell_type": "markdown",
   "metadata": {},
   "source": [
    "### Incidentes per capita\n",
    "__Um fator importante a se notar é que a distriuição populacional não é igual entre os estados. Dado esse conhecimento, vamos observar essa distribuição de incidentes levando em consideração Incidentes per capita.__\n",
    "![incidentes_estado_percapita.png](../resultados/incidentes_estado_percapita.png)\n",
    "\n",
    "__Apesar do número maior de incidentes, podemos ver que levando em consideração a população do estado, Illinois  não é o estado com mais incidentes per capita, sendo agora o estado do Alaska.__"
   ]
  },
  {
   "cell_type": "markdown",
   "metadata": {},
   "source": [
    "### Incidentes per capita através dos anos\n",
    "![incidentes_estado_percapita_ano.png](../resultados/incidentes_estado_percapita_ano.png)\n",
    "__Podemos ver que foi em 2015 e 2016 o salto do estado de Alaska em incidentes per capita.__"
   ]
  },
  {
   "cell_type": "markdown",
   "metadata": {},
   "source": [
    "### Qual o perfil de idade dos envolvidos nos incidentes?\n",
    "![hist_idade.png](../resultados/hist_idade.png)\n",
    "__Existe uma forte concentração na faixa dos 15 a 30 anos, grande parte dos envolvidos é jovem.__"
   ]
  },
  {
   "cell_type": "markdown",
   "metadata": {},
   "source": [
    "### Qual a tendência do número de incidentes?\n",
    "![incidentes_total_ano.png](../resultados/incidentes_total_ano.png)\n",
    "\n",
    "__Há um crescimento significativo com o passar do tempo.__"
   ]
  },
  {
   "cell_type": "markdown",
   "metadata": {},
   "source": [
    "### Em um dado ano, como estão distribuídos os incidentes?\n",
    "![inicidentes_percapita_mes.png](../resultados/inicidentes_percapita_mes.png)\n",
    "__Dezembro e Outubro são os meses com maior número médio de incidentes, ultrapassando 2000 incidentes por ano em média.\n",
    "Fevereiro é o mês com menor número de incidentes, tendo em média pouco mais de 1250 incidentes a cada ano.\n",
    "É possível perceber uma tendência de mais incidentes no segundo semestre do ano.__"
   ]
  },
  {
   "cell_type": "markdown",
   "metadata": {},
   "source": [
    "### E ao longo dos anos, como é essa distribuição mensal?\n",
    "![inicidentes_percapita_mes_ano.png](../resultados/inicidentes_percapita_mes_ano.png)\n",
    "__Não existe um padrão claro ao longo do tempo, mas é interessante como existe sempre um certo foco nos meses de feriado/férias, Dezembro/Janeiro e Julho/Agosto.__"
   ]
  },
  {
   "cell_type": "markdown",
   "metadata": {},
   "source": [
    "### Time series ao longo de todos os meses do ano:"
   ]
  },
  {
   "cell_type": "markdown",
   "metadata": {},
   "source": [
    "![time_series_all.png](../resultados/time_series_all.png)\n"
   ]
  },
  {
   "cell_type": "markdown",
   "metadata": {},
   "source": [
    "## Testes de Hipótese"
   ]
  },
  {
   "cell_type": "markdown",
   "metadata": {},
   "source": [
    "__Considerando o arquivo Gun Laws, que apresente um conjunto de 7 tipos de leis que regularizam porte de armas nos EUA, foi feito uma análise de Teste de Hipótese para analisar a influência das leis sobre os incidentes observados.__\n",
    "\n",
    "### Teste 1:\n",
    "#### Hipotese Nula: Leis não afetam o número de incidentes ou mortos e/ou feridos.\n",
    "#### Hipotese Alternativa: Leis afetam o número de incidentes ou mortos e/ou feridos."
   ]
  },
  {
   "cell_type": "markdown",
   "metadata": {},
   "source": [
    "#### Total de leis\n",
    "![HT_all_leis.png](../resultados/HT_all_leis.png)\n",
    "\n",
    "__Não foi observada um influência direta quando um Estado possui mais leis sobre vigor.__\n",
    "\n",
    "__Tendo isso como resultado, será que alguma das leis separadas tem alguma influência?__"
   ]
  },
  {
   "cell_type": "markdown",
   "metadata": {},
   "source": [
    "#### Red Flag Laws\n",
    "![HT_red_flag.png](../resultados/HT_red_flag.png)\n",
    "\n",
    "__Não foi observada um influência direta dessa lei.__"
   ]
  },
  {
   "cell_type": "markdown",
   "metadata": {},
   "source": [
    "#### Relinquishment Laws\t\n",
    "![HT_relinquishment_laws.png](../resultados/HT_relinquishment_laws.png)\n",
    "\n",
    "__Não foi observada um influência direta dessa lei.__"
   ]
  },
  {
   "cell_type": "markdown",
   "metadata": {},
   "source": [
    "#### Assault Weapon Ban\t\n",
    "![HT_assault_wep.png](../resultados/HT_assault_wep.png)\n",
    "\n",
    "__Não foi observada um influência direta dessa lei.__"
   ]
  },
  {
   "cell_type": "markdown",
   "metadata": {},
   "source": [
    "#### High-Capacity Magazine ban\n",
    "![HT_high_capacity.png](../resultados/HT_high_capacity.png)\n",
    "\n",
    "__Não foi observada um influência direta dessa lei.__"
   ]
  },
  {
   "cell_type": "markdown",
   "metadata": {},
   "source": [
    "#### Prohibition for high-risk individuals\n",
    "![HT_high_risk_indv.png](../resultados/HT_high_risk_indv.png)\n",
    "\n",
    "__Não foi observada um influência direta dessa lei.__"
   ]
  },
  {
   "cell_type": "markdown",
   "metadata": {},
   "source": [
    "#### Prohibitions for individual with domestic violence covictions\t\n",
    "![HT_domestic_violence.png](../resultados/HT_domestic_violence.png)\n",
    "\n",
    "__Não foi observada um influência direta dessa lei.__"
   ]
  },
  {
   "cell_type": "markdown",
   "metadata": {},
   "source": [
    "#### Mandatory universal background checks\n",
    "![HT_background_check.png](../resultados/HT_background_check.png)\n",
    "\n",
    "__Não foi observada um influência direta dessa lei.__"
   ]
  },
  {
   "cell_type": "markdown",
   "metadata": {},
   "source": [
    "__Dentre todas as leis observadas, nenhuma e nem o total delas parece influenciar o número de incidentes, feridos ou mortos. Esse teste é explorado mais na Classificação.__"
   ]
  },
  {
   "cell_type": "markdown",
   "metadata": {},
   "source": [
    "### Teste 2"
   ]
  },
  {
   "cell_type": "markdown",
   "metadata": {},
   "source": []
  },
  {
   "cell_type": "markdown",
   "metadata": {},
   "source": [
    "## Regressão"
   ]
  },
  {
   "cell_type": "markdown",
   "metadata": {},
   "source": [
    "## Classificação\n",
    "\n",
    "__Para Classificação, primeiramente há uma ligação com o Teste 1 de hipótese, tentamos através de dois métodos, K Nearest Neighbours e Decision Tree, classificar os estados em baixo(0 a 6), médio(6 a 12) ou alto(12+) número de incidentes per capita, essa classficação será feita a partir das leis abordadas no Teste 1 dos testes de hipotese.__ "
   ]
  },
  {
   "cell_type": "markdown",
   "metadata": {},
   "source": [
    "Distribuição dos incidentes per capita\n",
    "![distribuicao_incidentes_percapita.png](../resultados/distribuicao_incidentes_percapita.png)"
   ]
  },
  {
   "cell_type": "markdown",
   "metadata": {},
   "source": [
    "### Observação:\n",
    "    Tanto no KNN quanto na Decision Tree, foram utilizados um split de 80-20 de treino/teste."
   ]
  },
  {
   "cell_type": "markdown",
   "metadata": {},
   "source": [
    "__O KNN foi rodado 1000 vezes, obtendo-se uma média de accurácia.__\n",
    "\n",
    "__O Decision Tree foi rodado 1000 vezes, obtendo-se uma média de accurácia.___\n",
    "\n",
    "### Resultados dos testes:"
   ]
  },
  {
   "cell_type": "markdown",
   "metadata": {},
   "source": [
    "Média Acurácia KNN: 39%\n",
    "\n",
    "Média Acurácia Decision Tree: 37%\n",
    "\n",
    "![distribuicao_incidentes_percapita.png](../resultados/distribuicao_incidentes_percapita.png)"
   ]
  }
 ],
 "metadata": {
  "kernelspec": {
   "display_name": "Python 3",
   "language": "python",
   "name": "python3"
  },
  "language_info": {
   "codemirror_mode": {
    "name": "ipython",
    "version": 3
   },
   "file_extension": ".py",
   "mimetype": "text/x-python",
   "name": "python",
   "nbconvert_exporter": "python",
   "pygments_lexer": "ipython3",
   "version": "3.6.7"
  },
  "toc": {
   "base_numbering": 1,
   "nav_menu": {},
   "number_sections": true,
   "sideBar": true,
   "skip_h1_title": true,
   "title_cell": "Table of Contents",
   "title_sidebar": "Contents",
   "toc_cell": false,
   "toc_position": {},
   "toc_section_display": true,
   "toc_window_display": false
  }
 },
 "nbformat": 4,
 "nbformat_minor": 4
}
