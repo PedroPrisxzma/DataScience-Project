{
 "cells": [
  {
   "cell_type": "markdown",
   "metadata": {},
   "source": [
    "## Dados Utilizados\n",
    "\n",
    "Para a realização deste projeto, foi necessário utilizar alguns conjuntos de dados de domínio público. Nesta seção iremos entrar em mais detalhes sobre as bases utilizadas."
   ]
  },
  {
   "cell_type": "code",
   "execution_count": 1,
   "metadata": {},
   "outputs": [],
   "source": [
    "import pandas as pd\n",
    "import re"
   ]
  },
  {
   "cell_type": "markdown",
   "metadata": {},
   "source": [
    "### Gun Violence\n",
    "\n",
    "DESCRIÇÃO\n",
    "\n",
    "Fonte: [Gun Violence Data - James Ko](https://www.kaggle.com/jameslko/gun-violence-data)"
   ]
  },
  {
   "cell_type": "code",
   "execution_count": 2,
   "metadata": {},
   "outputs": [],
   "source": [
    "# Load gun violence dataset\n",
    "gun_violence = pd.read_csv('../databases/gun_violence.zip', compression='zip')"
   ]
  },
  {
   "cell_type": "markdown",
   "metadata": {},
   "source": [
    "### State Population Totals and Components of Change: 2010-2018\n",
    "\n",
    "DESCRIÇÃO\n",
    "\n",
    "Fonte: [United States Census Bureau](https://www.census.gov/data/tables/time-series/demo/popest/2010s-state-total.html)"
   ]
  },
  {
   "cell_type": "code",
   "execution_count": 3,
   "metadata": {},
   "outputs": [],
   "source": [
    "# Load population dataset\n",
    "population = pd.read_csv('../databases/nst-est2018-alldata.zip', compression='zip')"
   ]
  },
  {
   "cell_type": "markdown",
   "metadata": {},
   "source": [
    "## Limpeza dos Dados\n",
    "\n",
    "As bases de dados selecionadas possuem alguns dados nos quais não estamos interessados e que podemos remover para melhorar o desempenho e facilitar o trabalho.\n",
    "Além disso algumas estão faltando informações ou possuem uma formatação não muito adequada"
   ]
  },
  {
   "cell_type": "markdown",
   "metadata": {},
   "source": [
    "### Gun Violence"
   ]
  },
  {
   "cell_type": "code",
   "execution_count": 4,
   "metadata": {},
   "outputs": [],
   "source": [
    "# Drop unnecessary columns\n",
    "gun_violence = gun_violence[[\n",
    "    'incident_id',\n",
    "    'date',\n",
    "    'state',\n",
    "    'latitude',\n",
    "    'longitude',\n",
    "    'n_killed',\n",
    "    'n_injured',\n",
    "    'gun_stolen',\n",
    "    'gun_type',\n",
    "    'n_guns_involved',\n",
    "    'participant_age',\n",
    "    'participant_age_group',\n",
    "    'participant_gender',\n",
    "    'participant_type'\n",
    "]]"
   ]
  },
  {
   "cell_type": "code",
   "execution_count": 5,
   "metadata": {},
   "outputs": [],
   "source": [
    "# Drop missing values\n",
    "gun_violence.dropna(inplace=True)"
   ]
  },
  {
   "cell_type": "code",
   "execution_count": 6,
   "metadata": {},
   "outputs": [],
   "source": [
    "# Change date formatting\n",
    "gun_violence['year'] = gun_violence['date'].map(lambda x: x[0:4])\n",
    "gun_violence['month'] = gun_violence['date'].map(lambda x: x[5:7])\n",
    "gun_violence['day'] = gun_violence['date'].map(lambda x: x[8:10])\n",
    "gun_violence.drop(columns='date', inplace=True)"
   ]
  },
  {
   "cell_type": "code",
   "execution_count": 7,
   "metadata": {},
   "outputs": [],
   "source": [
    "# Change formatting on gun_stolen, gun_type, participant_age, etc.\n",
    "gun_violence['gun_stolen'] = gun_violence['gun_stolen'].map(lambda x: re.findall(r'[a-zA-Z]+', x))\n",
    "gun_violence['gun_type'] = gun_violence['gun_type'].map(lambda x: re.findall(r'[a-zA-Z]+', x))\n",
    "gun_violence['participant_age'] = gun_violence['participant_age'].map(lambda x: re.findall(r'[0-9]+', x)[1::2])\n",
    "gun_violence['participant_age_group'] = gun_violence['participant_age_group'].map(lambda x: re.findall(r'[a-zA-Z]+', x))\n",
    "gun_violence['participant_gender'] = gun_violence['participant_gender'].map(lambda x: re.findall(r'[a-zA-Z]+', x))\n",
    "gun_violence['participant_type'] = gun_violence['participant_type'].map(lambda x: re.findall(r'[a-zA-Z]+', x))"
   ]
  },
  {
   "cell_type": "markdown",
   "metadata": {},
   "source": [
    "### Population"
   ]
  },
  {
   "cell_type": "code",
   "execution_count": 9,
   "metadata": {},
   "outputs": [
    {
     "name": "stdout",
     "output_type": "stream",
     "text": [
      "(57, 7)\n"
     ]
    }
   ],
   "source": [
    "# Drop unnecessary columns\n",
    "population = population[[\n",
    "    'NAME',\n",
    "    'POPESTIMATE2013',\n",
    "    'POPESTIMATE2014',\n",
    "    'POPESTIMATE2015',\n",
    "    'POPESTIMATE2016',\n",
    "    'POPESTIMATE2017',\n",
    "    'POPESTIMATE2018'\n",
    "]]\n",
    "\n",
    "# Rename columns\n",
    "population.columns = ['state', '2013', '2014', '2015', '2016', '2017', '2018']\n",
    "\n",
    "print(population.shape)"
   ]
  },
  {
   "cell_type": "markdown",
   "metadata": {},
   "source": [
    "### Participantes\n",
    "\n",
    "Vamos criar um novo data frame com informações dos participantes dos incidentes para podermos trabalhar melhor."
   ]
  },
  {
   "cell_type": "code",
   "execution_count": 8,
   "metadata": {},
   "outputs": [],
   "source": [
    "# Create new Data Frame for participants\n",
    "participants = []\n",
    "for index, row in gun_violence.iterrows():\n",
    "    for age, group, gender, p_type in zip(row['participant_age'], row['participant_age_group'], row['participant_gender'], row['participant_type']):\n",
    "        participants.append([row['incident_id'], age, group, gender, p_type])\n",
    "\n",
    "participants = pd.DataFrame(participants, columns=['incident_id', 'participant_age', 'participant_age_group', 'participant_gender', 'participant_type'])"
   ]
  },
  {
   "cell_type": "markdown",
   "metadata": {},
   "source": [
    "## Salvar dados limpos"
   ]
  },
  {
   "cell_type": "code",
   "execution_count": 10,
   "metadata": {},
   "outputs": [],
   "source": [
    "# Save clean datasets\n",
    "gun_violence.to_csv('../databases/gun_violence_clean.csv')\n",
    "participants.to_csv('../databases/participants_clean.csv')\n",
    "population.to_csv('../databases/population_clean.csv')"
   ]
  }
 ],
 "metadata": {
  "kernelspec": {
   "display_name": "Python 3",
   "language": "python",
   "name": "python3"
  },
  "language_info": {
   "codemirror_mode": {
    "name": "ipython",
    "version": 3
   },
   "file_extension": ".py",
   "mimetype": "text/x-python",
   "name": "python",
   "nbconvert_exporter": "python",
   "pygments_lexer": "ipython3",
   "version": "3.7.3"
  }
 },
 "nbformat": 4,
 "nbformat_minor": 4
}
