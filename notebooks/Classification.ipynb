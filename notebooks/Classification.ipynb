{
 "cells": [
  {
   "cell_type": "markdown",
   "metadata": {},
   "source": [
    "# Classificação"
   ]
  },
  {
   "cell_type": "code",
   "execution_count": 1,
   "metadata": {},
   "outputs": [],
   "source": [
    "import numpy as np\n",
    "import pandas as pd\n",
    "\n",
    "from sklearn.metrics import classification_report, confusion_matrix  \n",
    "from sklearn.model_selection import train_test_split\n",
    "from sklearn.neighbors import KNeighborsClassifier  "
   ]
  },
  {
   "cell_type": "code",
   "execution_count": 2,
   "metadata": {},
   "outputs": [],
   "source": [
    "# Load gun laws dataset\n",
    "gun_laws = pd.read_csv('../databases/gun_laws.zip', compression='zip')\n",
    "\n",
    "states = pd.read_csv('../databases/states.zip', compression='zip')"
   ]
  },
  {
   "cell_type": "code",
   "execution_count": 3,
   "metadata": {},
   "outputs": [
    {
     "name": "stdout",
     "output_type": "stream",
     "text": [
      "[[1 0 3]\n",
      " [2 0 3]\n",
      " [2 0 0]]\n",
      "              precision    recall  f1-score   support\n",
      "\n",
      "        high       0.20      0.25      0.22         4\n",
      "         low       0.00      0.00      0.00         5\n",
      "      medium       0.00      0.00      0.00         2\n",
      "\n",
      "   micro avg       0.09      0.09      0.09        11\n",
      "   macro avg       0.07      0.08      0.07        11\n",
      "weighted avg       0.07      0.09      0.08        11\n",
      "\n"
     ]
    },
    {
     "name": "stderr",
     "output_type": "stream",
     "text": [
      "/home/marcelo/anaconda3/lib/python3.7/site-packages/sklearn/metrics/classification.py:1143: UndefinedMetricWarning: Precision and F-score are ill-defined and being set to 0.0 in labels with no predicted samples.\n",
      "  'precision', 'predicted', average, warn_for)\n"
     ]
    }
   ],
   "source": [
    "# Classify each state by number of incidents\n",
    "state_class = np.concatenate((np.repeat('low', 17), np.repeat('medium', 17), np.repeat('high', 17)))\n",
    "\n",
    "states = states.sort_values(by='incidents_per_capita')\n",
    "states['class'] = state_class\n",
    "\n",
    "# Create labeled dataset\n",
    "gun_laws_class = pd.merge(states[['state', 'class']], gun_laws, on='state')\n",
    "\n",
    "# Split train and test sets\n",
    "y = gun_laws_class['class']\n",
    "X = gun_laws_class.drop(['state', 'class'], axis=1)\n",
    "\n",
    "X_train, X_test, y_train, y_test = train_test_split(X, y, test_size=0.20)\n",
    "\n",
    "# Train\n",
    "classifier = KNeighborsClassifier(n_neighbors=3)\n",
    "classifier.fit(X_train, y_train)\n",
    "\n",
    "y_pred = classifier.predict(X_test)\n",
    "\n",
    "print(confusion_matrix(y_test, y_pred))\n",
    "print(classification_report(y_test, y_pred))"
   ]
  }
 ],
 "metadata": {
  "kernelspec": {
   "display_name": "Python 3",
   "language": "python",
   "name": "python3"
  },
  "language_info": {
   "codemirror_mode": {
    "name": "ipython",
    "version": 3
   },
   "file_extension": ".py",
   "mimetype": "text/x-python",
   "name": "python",
   "nbconvert_exporter": "python",
   "pygments_lexer": "ipython3",
   "version": "3.7.3"
  }
 },
 "nbformat": 4,
 "nbformat_minor": 4
}
